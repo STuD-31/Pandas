{
 "cells": [
  {
   "cell_type": "markdown",
   "id": "fb9141fa-0dcf-45b1-8293-25132d3b4a3b",
   "metadata": {},
   "source": [
    "# NUmeric Data types"
   ]
  },
  {
   "cell_type": "code",
   "execution_count": 1,
   "id": "91f3b6c5-46cc-4551-9b9f-ae56d53bfaec",
   "metadata": {},
   "outputs": [],
   "source": [
    "import pandas as pd\n"
   ]
  },
  {
   "cell_type": "code",
   "execution_count": 6,
   "id": "ebde21a4-538c-425b-abc0-c39258dc62b7",
   "metadata": {},
   "outputs": [
    {
     "name": "stdout",
     "output_type": "stream",
     "text": [
      "   age  salary\n",
      "0    2    2000\n",
      "1    3    3000\n",
      "2    4    4000\n",
      "3    5    5000\n",
      "4    5    6000\n",
      "5    6    7000\n",
      "6    7    8000\n",
      "7    5    9000\n"
     ]
    }
   ],
   "source": [
    "import pandas as pd  # Import pandas\n",
    "\n",
    "# Creating a DataFrame with integer data\n",
    "data = {\n",
    "    'age': [2, 3, 4, 5, 5, 6, 7, 5],  # 8 values\n",
    "    'salary': [2000, 3000, 4000, 5000, 6000, 7000, 8000, 9000]  # 8 values (same length)\n",
    "}\n",
    "\n",
    "df = pd.DataFrame(data)  # Correct way to create a DataFrame\n",
    "print(df)  # Display DataFrame\n"
   ]
  },
  {
   "cell_type": "code",
   "execution_count": 7,
   "id": "81251f1f-b983-44f6-a957-3fb15bf3bc0c",
   "metadata": {},
   "outputs": [
    {
     "name": "stdout",
     "output_type": "stream",
     "text": [
      "<class 'pandas.core.frame.DataFrame'>\n",
      "RangeIndex: 8 entries, 0 to 7\n",
      "Data columns (total 2 columns):\n",
      " #   Column  Non-Null Count  Dtype\n",
      "---  ------  --------------  -----\n",
      " 0   age     8 non-null      int64\n",
      " 1   salary  8 non-null      int64\n",
      "dtypes: int64(2)\n",
      "memory usage: 260.0 bytes\n"
     ]
    }
   ],
   "source": [
    "df.info()"
   ]
  },
  {
   "cell_type": "code",
   "execution_count": 8,
   "id": "13fb695b-0ece-4c14-8f10-0304665a34e2",
   "metadata": {},
   "outputs": [
    {
     "data": {
      "text/plain": [
       "age       int64\n",
       "salary    int64\n",
       "dtype: object"
      ]
     },
     "execution_count": 8,
     "metadata": {},
     "output_type": "execute_result"
    }
   ],
   "source": [
    "df.dtypes"
   ]
  },
  {
   "cell_type": "markdown",
   "id": "67674c11-c07c-498b-b2b1-d6e8fe0f7772",
   "metadata": {},
   "source": [
    "## yx=2**32\n",
    "x"
   ]
  },
  {
   "cell_type": "code",
   "execution_count": null,
   "id": "baf38ec3-31d6-43b0-98e2-e9ba69528fbf",
   "metadata": {},
   "outputs": [],
   "source": []
  }
 ],
 "metadata": {
  "kernelspec": {
   "display_name": "Python 3 (ipykernel)",
   "language": "python",
   "name": "python3"
  },
  "language_info": {
   "codemirror_mode": {
    "name": "ipython",
    "version": 3
   },
   "file_extension": ".py",
   "mimetype": "text/x-python",
   "name": "python",
   "nbconvert_exporter": "python",
   "pygments_lexer": "ipython3",
   "version": "3.12.7"
  }
 },
 "nbformat": 4,
 "nbformat_minor": 5
}
