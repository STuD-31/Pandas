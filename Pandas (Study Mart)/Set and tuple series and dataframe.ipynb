{
 "cells": [
  {
   "cell_type": "markdown",
   "id": "9f25f7d0-9dda-4a6f-ad52-61df56548203",
   "metadata": {},
   "source": [
    "#  set to series and dataframe"
   ]
  },
  {
   "cell_type": "code",
   "execution_count": 1,
   "id": "35ff4845-af8d-4b34-bf90-1e3289b92570",
   "metadata": {},
   "outputs": [],
   "source": [
    "import pandas as pd\n"
   ]
  },
  {
   "cell_type": "code",
   "execution_count": 10,
   "id": "9f760aa8-9ac4-4bb3-b62d-1ab545b83ebe",
   "metadata": {},
   "outputs": [
    {
     "name": "stdout",
     "output_type": "stream",
     "text": [
      "{40, 10, 20, 30}\n"
     ]
    },
    {
     "data": {
      "text/plain": [
       "set"
      ]
     },
     "execution_count": 10,
     "metadata": {},
     "output_type": "execute_result"
    }
   ],
   "source": [
    "# Sample set\n",
    "a = {10, 20, 30, 40}\n",
    "print(a)\n",
    "type(a)"
   ]
  },
  {
   "cell_type": "code",
   "execution_count": 11,
   "id": "ce910503-9ca9-49ad-9adc-ee58ff63cf2c",
   "metadata": {},
   "outputs": [
    {
     "name": "stdout",
     "output_type": "stream",
     "text": [
      "0    40\n",
      "1    10\n",
      "2    20\n",
      "3    30\n",
      "dtype: int64\n"
     ]
    },
    {
     "data": {
      "text/plain": [
       "pandas.core.series.Series"
      ]
     },
     "execution_count": 11,
     "metadata": {},
     "output_type": "execute_result"
    }
   ],
   "source": [
    "#convert to series \n",
    "\n",
    "series =pd.Series(list(a))  #sets are unordered, converting them to a list gives a random order.\n",
    "print(series)\n",
    "type(series)"
   ]
  },
  {
   "cell_type": "code",
   "execution_count": 12,
   "id": "c5ce0f09-1054-4d3a-966f-ab32de430eb2",
   "metadata": {},
   "outputs": [
    {
     "name": "stdout",
     "output_type": "stream",
     "text": [
      "   Values\n",
      "0      40\n",
      "1      10\n",
      "2      20\n",
      "3      30\n"
     ]
    },
    {
     "data": {
      "text/plain": [
       "pandas.core.frame.DataFrame"
      ]
     },
     "execution_count": 12,
     "metadata": {},
     "output_type": "execute_result"
    }
   ],
   "source": [
    "#convert a set to a dataframe\n",
    "\n",
    "df = pd.DataFrame((a), columns=['Values'])\n",
    "print(df)\n",
    "type(df)\n"
   ]
  },
  {
   "cell_type": "markdown",
   "id": "6f077ac3-2ad6-4498-9a4a-802a82565ad1",
   "metadata": {},
   "source": [
    "# Tuple to data series and dataframe\n",
    "\n"
   ]
  },
  {
   "cell_type": "code",
   "execution_count": 13,
   "id": "e43615ea-8af2-4030-9cec-b3333be9f1b4",
   "metadata": {},
   "outputs": [
    {
     "name": "stdout",
     "output_type": "stream",
     "text": [
      "(10, 20, 30, 40)\n"
     ]
    },
    {
     "data": {
      "text/plain": [
       "tuple"
      ]
     },
     "execution_count": 13,
     "metadata": {},
     "output_type": "execute_result"
    }
   ],
   "source": [
    "# Sample tuple\n",
    "k = (10, 20, 30, 40)\n",
    "print(k)\n",
    "type(k)"
   ]
  },
  {
   "cell_type": "code",
   "execution_count": 16,
   "id": "7c141e69-d8e6-4e1e-8ee9-d648f41a64cb",
   "metadata": {},
   "outputs": [
    {
     "name": "stdout",
     "output_type": "stream",
     "text": [
      "0    10\n",
      "1    20\n",
      "2    30\n",
      "3    40\n",
      "dtype: int64\n"
     ]
    },
    {
     "data": {
      "text/plain": [
       "pandas.core.series.Series"
      ]
     },
     "execution_count": 16,
     "metadata": {},
     "output_type": "execute_result"
    }
   ],
   "source": [
    "# Convert tuple to Series\n",
    "series = pd.Series(k)\n",
    "\n",
    "print(series)\n",
    "type(series)"
   ]
  },
  {
   "cell_type": "code",
   "execution_count": 17,
   "id": "d3d84913-726d-4393-8d09-d78082991e2e",
   "metadata": {},
   "outputs": [
    {
     "name": "stdout",
     "output_type": "stream",
     "text": [
      "   Values\n",
      "0      10\n",
      "1      20\n",
      "2      30\n",
      "3      40\n"
     ]
    }
   ],
   "source": [
    "# Single-column DataFrame\n",
    "\n",
    "df = pd.DataFrame(k, columns=['Values'])\n",
    "print(df)\n"
   ]
  },
  {
   "cell_type": "code",
   "execution_count": null,
   "id": "35d3226e-cc64-4413-ab31-9a04d8cfa39f",
   "metadata": {},
   "outputs": [],
   "source": []
  }
 ],
 "metadata": {
  "kernelspec": {
   "display_name": "Python 3 (ipykernel)",
   "language": "python",
   "name": "python3"
  },
  "language_info": {
   "codemirror_mode": {
    "name": "ipython",
    "version": 3
   },
   "file_extension": ".py",
   "mimetype": "text/x-python",
   "name": "python",
   "nbconvert_exporter": "python",
   "pygments_lexer": "ipython3",
   "version": "3.12.7"
  }
 },
 "nbformat": 4,
 "nbformat_minor": 5
}
