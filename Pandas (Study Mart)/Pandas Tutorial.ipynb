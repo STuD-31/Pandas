
{
 "cells": [
  {
   "cell_type": "code",
   "execution_count": null,
   "id": "e2d90923-f227-4ba7-bd15-2196ece3b868",
   "metadata": {},
   "outputs": [],
   "source": []
  }
 ],
 "metadata": {
  "kernelspec": {
   "display_name": "",
   "name": ""
  },
  "language_info": {
   "name": ""
  }
 },
 "nbformat": 4,
 "nbformat_minor": 5
}
