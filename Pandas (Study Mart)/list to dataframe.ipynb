{
 "cells": [
  {
   "cell_type": "markdown",
   "id": "93d5ac8e-18a8-403c-a65b-155c653242c8",
   "metadata": {},
   "source": [
    "# list to  dataframe"
   ]
  },
  {
   "cell_type": "code",
   "execution_count": 1,
   "id": "5397f7a8-6681-4f2e-bdeb-16db501ff011",
   "metadata": {},
   "outputs": [
    {
     "data": {
      "text/plain": [
       "[1, 2, 3, 4, 5]"
      ]
     },
     "execution_count": 1,
     "metadata": {},
     "output_type": "execute_result"
    }
   ],
   "source": [
    "import pandas as pd\n",
    "\n",
    "data =[1,2,3,4,5]\n",
    "data"
   ]
  },
  {
   "cell_type": "code",
   "execution_count": 6,
   "id": "bbf14cb9-e669-4781-a2b9-aa52e3142607",
   "metadata": {},
   "outputs": [
    {
     "name": "stdout",
     "output_type": "stream",
     "text": [
      "   num2\n",
      "0     1\n",
      "1     2\n",
      "2     3\n",
      "3     4\n",
      "4     5\n"
     ]
    },
    {
     "data": {
      "text/plain": [
       "pandas.core.frame.DataFrame"
      ]
     },
     "execution_count": 6,
     "metadata": {},
     "output_type": "execute_result"
    }
   ],
   "source": [
    "# create a dataframe from the series\n",
    "\n",
    "\n",
    "# Example Series\n",
    "data = pd.Series([1, 2, 3, 4, 5])\n",
    "\n",
    "# Creating a DataFrame from the Series\n",
    "b = pd.DataFrame(data, columns=['num2'])\n",
    "print(b)\n",
    "type(b)"
   ]
  },
  {
   "cell_type": "code",
   "execution_count": 7,
   "id": "0157a921-a88f-4951-88e0-ae8c1ff3aced",
   "metadata": {},
   "outputs": [
    {
     "name": "stdout",
     "output_type": "stream",
     "text": [
      "0    1\n",
      "1    2\n",
      "2    3\n",
      "3    4\n",
      "4    5\n",
      "Name: num2, dtype: int64\n"
     ]
    },
    {
     "data": {
      "text/plain": [
       "pandas.core.series.Series"
      ]
     },
     "execution_count": 7,
     "metadata": {},
     "output_type": "execute_result"
    }
   ],
   "source": [
    "# create a series from the dataframe\n",
    "\n",
    "c=b['num2']\n",
    "c\n",
    "print(c)\n",
    "type(c)"
   ]
  },
  {
   "cell_type": "code",
   "execution_count": 8,
   "id": "0ade5e47-17c8-4c1d-b9a1-9cfd996ce658",
   "metadata": {},
   "outputs": [
    {
     "data": {
      "text/plain": [
       "[[1, 2], [3, 4], [5, 6]]"
      ]
     },
     "execution_count": 8,
     "metadata": {},
     "output_type": "execute_result"
    }
   ],
   "source": [
    "# create a series  from two integar columns\n",
    "\n",
    "data =[ [1,2],[3,4],[5,6]]\n",
    "data"
   ]
  },
  {
   "cell_type": "code",
   "execution_count": 13,
   "id": "75186c71-59d3-435b-8dfd-280bb7ac8bb4",
   "metadata": {},
   "outputs": [
    {
     "name": "stdout",
     "output_type": "stream",
     "text": [
      "   num1  num2\n",
      "0     1     2\n",
      "1     3     4\n",
      "2     5     6\n"
     ]
    },
    {
     "data": {
      "text/plain": [
       "pandas.core.frame.DataFrame"
      ]
     },
     "execution_count": 13,
     "metadata": {},
     "output_type": "execute_result"
    }
   ],
   "source": [
    "# create a dataframe from the list and rename the columns\n",
    "\n",
    "k=pd.DataFrame(data,columns=['num1','num2'])\n",
    "print(k)\n",
    "type(k)\n"
   ]
  },
  {
   "cell_type": "code",
   "execution_count": 15,
   "id": "2221e686-a5b6-4f2c-ac89-4316f3c492f0",
   "metadata": {},
   "outputs": [
    {
     "name": "stdout",
     "output_type": "stream",
     "text": [
      "   num1  num2\n",
      "0     1     2\n",
      "1     3     4\n",
      "2     5     6\n"
     ]
    },
    {
     "data": {
      "text/plain": [
       "pandas.core.frame.DataFrame"
      ]
     },
     "execution_count": 15,
     "metadata": {},
     "output_type": "execute_result"
    }
   ],
   "source": [
    "# create a series from the dataframe\n",
    "\n",
    "l=k[['num1','num2']]\n",
    "print(l)\n",
    "type(l)"
   ]
  },
  {
   "cell_type": "code",
   "execution_count": null,
   "id": "c35143f8-bb13-4934-a175-2d6db07e3cee",
   "metadata": {},
   "outputs": [],
   "source": []
  }
 ],
 "metadata": {
  "kernelspec": {
   "display_name": "Python 3 (ipykernel)",
   "language": "python",
   "name": "python3"
  },
  "language_info": {
   "codemirror_mode": {
    "name": "ipython",
    "version": 3
   },
   "file_extension": ".py",
   "mimetype": "text/x-python",
   "name": "python",
   "nbconvert_exporter": "python",
   "pygments_lexer": "ipython3",
   "version": "3.12.7"
  }
 },
 "nbformat": 4,
 "nbformat_minor": 5
}
